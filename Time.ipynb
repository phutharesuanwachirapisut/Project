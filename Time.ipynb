{
 "cells": [
  {
   "cell_type": "markdown",
   "metadata": {},
   "source": [
    "# Diary\n"
   ]
  },
  {
   "cell_type": "code",
   "execution_count": 3,
   "metadata": {},
   "outputs": [
    {
     "name": "stdout",
     "output_type": "stream",
     "text": [
      "16/06/2025\n",
      " \n",
      "ขอบคุณ\n",
      "- ขอบคุณ\n",
      "- ขอบคุณ\n",
      "- ขอบคุณ\n",
      "\n",
      "17/06/2025\n",
      " \n",
      "ขอบคุณ\n",
      "- ขอบคุณ\n",
      "- ขอบคุณ\n",
      "- ขอบคุณ\n",
      "\n",
      "18/06/2025\n",
      " \n",
      "ขอบคุณ\n",
      "- ขอบคุณ\n",
      "- ขอบคุณ\n",
      "- ขอบคุณ\n",
      "\n",
      "19/06/2025\n",
      " \n",
      "ขอบคุณ\n",
      "- ขอบคุณ\n",
      "- ขอบคุณ\n",
      "- ขอบคุณ\n",
      "\n",
      "20/06/2025\n",
      " \n",
      "ขอบคุณ\n",
      "- ขอบคุณ\n",
      "- ขอบคุณ\n",
      "- ขอบคุณ\n",
      "\n",
      "21/06/2025\n",
      " \n",
      "ขอบคุณ\n",
      "- ขอบคุณ\n",
      "- ขอบคุณ\n",
      "- ขอบคุณ\n",
      "\n",
      "22/06/2025\n",
      " \n",
      "ขอบคุณ\n",
      "- ขอบคุณ\n",
      "- ขอบคุณ\n",
      "- ขอบคุณ\n",
      "\n"
     ]
    }
   ],
   "source": [
    "\n",
    "import datetime\n",
    "def main():\n",
    "\tcurrent_date = input(\"Enter the current date (Y-M-D): \")\n",
    "\tdiary_automate(current_date)\n",
    "\n",
    "def diary_automate(current_date):\n",
    "\tcurrent_date = datetime.datetime.strptime(current_date, \"%Y-%m-%d\")\n",
    "\t\n",
    "\tfor i in range(0,7):\n",
    "\t\tfuture_date = current_date + datetime.timedelta(days=i)\n",
    "\t\tday_ = future_date.strftime(\"%Y-%m-%d\").split(\"-\")[-1]\n",
    "\t\tmonth_ = future_date.strftime(\"%Y-%m-%d\").split(\"-\")[-2]\n",
    "\n",
    "\t\tprint(f\"{day_}/{month_}/2025\\n \\nขอบคุณ\\n- ขอบคุณ\\n- ขอบคุณ\\n- ขอบคุณ\\n\")\n",
    "if __name__ == \"__main__\":\n",
    "\tmain()"
   ]
  },
  {
   "cell_type": "code",
   "execution_count": 3,
   "metadata": {},
   "outputs": [
    {
     "ename": "NameError",
     "evalue": "name 'datetime' is not defined",
     "output_type": "error",
     "traceback": [
      "\u001b[0;31m---------------------------------------------------------------------------\u001b[0m",
      "\u001b[0;31mNameError\u001b[0m                                 Traceback (most recent call last)",
      "Cell \u001b[0;32mIn[3], line 1\u001b[0m\n\u001b[0;32m----> 1\u001b[0m current_date \u001b[38;5;241m=\u001b[39m \u001b[43mdatetime\u001b[49m\u001b[38;5;241m.\u001b[39mdatetime\u001b[38;5;241m.\u001b[39mnow()\n\u001b[1;32m      2\u001b[0m future_date \u001b[38;5;241m=\u001b[39m current_date \u001b[38;5;241m+\u001b[39m datetime\u001b[38;5;241m.\u001b[39mtimedelta(days\u001b[38;5;241m=\u001b[39m\u001b[38;5;241m1\u001b[39m)\n\u001b[1;32m      3\u001b[0m end_ \u001b[38;5;241m=\u001b[39m future_date\u001b[38;5;241m.\u001b[39mstrftime(\u001b[38;5;124m\"\u001b[39m\u001b[38;5;124m%\u001b[39m\u001b[38;5;124mY-\u001b[39m\u001b[38;5;124m%\u001b[39m\u001b[38;5;124mm-\u001b[39m\u001b[38;5;132;01m%d\u001b[39;00m\u001b[38;5;124m\"\u001b[39m)\n",
      "\u001b[0;31mNameError\u001b[0m: name 'datetime' is not defined"
     ]
    }
   ],
   "source": [
    "current_date = datetime.datetime.now()\n",
    "future_date = current_date + datetime.timedelta(days=1)\n",
    "end_ = future_date.strftime(\"%Y-%m-%d\")\n",
    "print(current_date)"
   ]
  },
  {
   "cell_type": "markdown",
   "metadata": {},
   "source": [
    "# Time Sheet"
   ]
  },
  {
   "cell_type": "code",
   "execution_count": null,
   "metadata": {},
   "outputs": [],
   "source": [
    "\n",
    "\n",
    "for i in range(1,7+1):\n",
    "\t\tfuture_date = current_date + datetime.timedelta(days=i)\n",
    "\t\tday_ = future_date.strftime(\"%Y-%m-%d\").split(\"-\")[-1]\n",
    "\t\tmonth_ = future_date.strftime(\"%Y-%m-%d\").split(\"-\")[-2]"
   ]
  }
 ],
 "metadata": {
  "kernelspec": {
   "display_name": "Python 3",
   "language": "python",
   "name": "python3"
  },
  "language_info": {
   "codemirror_mode": {
    "name": "ipython",
    "version": 3
   },
   "file_extension": ".py",
   "mimetype": "text/x-python",
   "name": "python",
   "nbconvert_exporter": "python",
   "pygments_lexer": "ipython3",
   "version": "3.12.4"
  }
 },
 "nbformat": 4,
 "nbformat_minor": 2
}
